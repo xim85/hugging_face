{
 "cells": [
  {
   "cell_type": "markdown",
   "metadata": {},
   "source": [
    "Hugging face"
   ]
  },
  {
   "cell_type": "markdown",
   "metadata": {},
   "source": [
    "https://huggingface.co/docs/api-inference/detailed_parameters"
   ]
  },
  {
   "cell_type": "code",
   "execution_count": 29,
   "metadata": {},
   "outputs": [],
   "source": [
    "import requests\n",
    "import pandas as pd\n",
    "import os"
   ]
  },
  {
   "cell_type": "code",
   "execution_count": 30,
   "metadata": {},
   "outputs": [],
   "source": [
    "API_TOKEN = open('Token.txt').read().strip()"
   ]
  },
  {
   "cell_type": "markdown",
   "metadata": {},
   "source": [
    "Zero-Shot Classification task"
   ]
  },
  {
   "cell_type": "markdown",
   "metadata": {},
   "source": [
    "Refunds"
   ]
  },
  {
   "cell_type": "code",
   "execution_count": 32,
   "metadata": {},
   "outputs": [],
   "source": [
    "headers = {\"Authorization\": f\"Bearer {API_TOKEN}\"}\n",
    "API_URL = \"https://api-inference.huggingface.co/models/facebook/bart-large-mnli\"\n",
    "def query(payload):\n",
    "    response = requests.post(API_URL, headers=headers, json=payload)\n",
    "    return response.json()\n",
    "data = query(\n",
    "    {\n",
    "        \"inputs\": \"Hi, I recently bought a device from your company but it is not working as advertised and I would like to get reimbursed!\",\n",
    "        \"parameters\": {\"candidate_labels\": [\"refund\", \"legal\", \"faq\"]},\n",
    "    }\n",
    ")"
   ]
  },
  {
   "cell_type": "code",
   "execution_count": 33,
   "metadata": {},
   "outputs": [
    {
     "data": {
      "text/plain": [
       "{'sequence': 'Hi, I recently bought a device from your company but it is not working as advertised and I would like to get reimbursed!',\n",
       " 'labels': ['refund', 'faq', 'legal'],\n",
       " 'scores': [0.8777878284454346, 0.10522636026144028, 0.01698581501841545]}"
      ]
     },
     "execution_count": 33,
     "metadata": {},
     "output_type": "execute_result"
    }
   ],
   "source": [
    "data"
   ]
  },
  {
   "cell_type": "code",
   "execution_count": 34,
   "metadata": {},
   "outputs": [
    {
     "data": {
      "text/plain": [
       "dict"
      ]
     },
     "execution_count": 34,
     "metadata": {},
     "output_type": "execute_result"
    }
   ],
   "source": [
    "type(data)"
   ]
  },
  {
   "cell_type": "code",
   "execution_count": 35,
   "metadata": {},
   "outputs": [
    {
     "data": {
      "text/plain": [
       "'This sentence refers to refund'"
      ]
     },
     "execution_count": 35,
     "metadata": {},
     "output_type": "execute_result"
    }
   ],
   "source": [
    "def get_highest_score_label(data):\n",
    "    max_index = data['scores'].index(max(data['scores']))\n",
    "    highest_label = data['labels'][max_index]\n",
    "    return f\"This sentence refers to {highest_label}\"\n",
    "\n",
    "get_highest_score_label(data)"
   ]
  },
  {
   "cell_type": "markdown",
   "metadata": {},
   "source": [
    "Likeness"
   ]
  },
  {
   "cell_type": "code",
   "execution_count": 36,
   "metadata": {},
   "outputs": [],
   "source": [
    "headers = {\"Authorization\": f\"Bearer {API_TOKEN}\"}\n",
    "API_URL = \"https://api-inference.huggingface.co/models/facebook/bart-large-mnli\"\n",
    "def query(payload):\n",
    "    response = requests.post(API_URL, headers=headers, json=payload)\n",
    "    return response.json()\n",
    "data = query(\n",
    "    {\n",
    "        \"inputs\": \"I love this product\",\n",
    "        \"parameters\": {\"candidate_labels\": [\"good\", \"intermediate\", \"bad\"]},\n",
    "    }\n",
    ")"
   ]
  },
  {
   "cell_type": "code",
   "execution_count": 37,
   "metadata": {},
   "outputs": [
    {
     "data": {
      "text/plain": [
       "'This opinion is good'"
      ]
     },
     "execution_count": 37,
     "metadata": {},
     "output_type": "execute_result"
    }
   ],
   "source": [
    "def get_highest_score_label(data):\n",
    "    max_index = data['scores'].index(max(data['scores']))\n",
    "    highest_label = data['labels'][max_index]\n",
    "    return f\"This opinion is {highest_label}\"\n",
    "\n",
    "get_highest_score_label(data)"
   ]
  },
  {
   "cell_type": "markdown",
   "metadata": {},
   "source": [
    "Multiple inputs"
   ]
  },
  {
   "cell_type": "code",
   "execution_count": 38,
   "metadata": {},
   "outputs": [],
   "source": [
    "headers = {\"Authorization\": f\"Bearer {API_TOKEN}\"}\n",
    "API_URL = \"https://api-inference.huggingface.co/models/facebook/bart-large-mnli\"\n",
    "\n",
    "def query(payload):\n",
    "    response = requests.post(API_URL, headers=headers, json=payload)\n",
    "    return response.json()\n",
    "\n",
    "\n",
    "def query_multiple_inputs(inputs_list, candidate_labels):\n",
    "    results = []\n",
    "    \n",
    "    for input_text in inputs_list:\n",
    "        payload = {\n",
    "            \"inputs\": input_text,\n",
    "            \"parameters\": {\"candidate_labels\": candidate_labels},\n",
    "        }\n",
    "        result = query(payload)\n",
    "        results.append(result)\n",
    "    \n",
    "    return results"
   ]
  },
  {
   "cell_type": "code",
   "execution_count": 39,
   "metadata": {},
   "outputs": [],
   "source": [
    "inputs = [\"I love this product\", \"This is not what I expected\", \"It works fine, but could be better\"]\n",
    "candidate_labels = [\"good\", \"neutral\", \"bad\"]"
   ]
  },
  {
   "cell_type": "code",
   "execution_count": 40,
   "metadata": {},
   "outputs": [
    {
     "data": {
      "text/plain": [
       "[{'sequence': 'I love this product',\n",
       "  'labels': ['good', 'neutral', 'bad'],\n",
       "  'scores': [0.9883801341056824, 0.01027941145002842, 0.001340384827926755]},\n",
       " {'sequence': 'This is not what I expected',\n",
       "  'labels': ['bad', 'good', 'neutral'],\n",
       "  'scores': [0.9213561415672302, 0.04466470703482628, 0.033979207277297974]},\n",
       " {'sequence': 'It works fine, but could be better',\n",
       "  'labels': ['good', 'neutral', 'bad'],\n",
       "  'scores': [0.927952229976654, 0.06524170935153961, 0.006806021090596914]}]"
      ]
     },
     "execution_count": 40,
     "metadata": {},
     "output_type": "execute_result"
    }
   ],
   "source": [
    "data = query_multiple_inputs(inputs, candidate_labels)\n",
    "\n",
    "data"
   ]
  },
  {
   "cell_type": "code",
   "execution_count": 41,
   "metadata": {},
   "outputs": [],
   "source": [
    "def process_dict_to_dataframe(data_dict):\n",
    "    sequences = []\n",
    "    top_labels = []\n",
    "    top_scores = []\n",
    "    for entry in data_dict:\n",
    "        sequences.append(entry['sequence'])\n",
    "        max_index = entry['scores'].index(max(entry['scores']))\n",
    "        top_labels.append(entry['labels'][max_index])\n",
    "        top_scores.append(entry['scores'][max_index])\n",
    "    df = pd.DataFrame({\n",
    "        'Frase': sequences,\n",
    "        'Etiqueta con Mayor Puntuación': top_labels,\n",
    "        'Puntuación': top_scores\n",
    "    })\n",
    "    \n",
    "    return df"
   ]
  },
  {
   "cell_type": "code",
   "execution_count": 42,
   "metadata": {},
   "outputs": [
    {
     "data": {
      "text/html": [
       "<div>\n",
       "<style scoped>\n",
       "    .dataframe tbody tr th:only-of-type {\n",
       "        vertical-align: middle;\n",
       "    }\n",
       "\n",
       "    .dataframe tbody tr th {\n",
       "        vertical-align: top;\n",
       "    }\n",
       "\n",
       "    .dataframe thead th {\n",
       "        text-align: right;\n",
       "    }\n",
       "</style>\n",
       "<table border=\"1\" class=\"dataframe\">\n",
       "  <thead>\n",
       "    <tr style=\"text-align: right;\">\n",
       "      <th></th>\n",
       "      <th>Frase</th>\n",
       "      <th>Etiqueta con Mayor Puntuación</th>\n",
       "      <th>Puntuación</th>\n",
       "    </tr>\n",
       "  </thead>\n",
       "  <tbody>\n",
       "    <tr>\n",
       "      <th>0</th>\n",
       "      <td>I love this product</td>\n",
       "      <td>good</td>\n",
       "      <td>0.988380</td>\n",
       "    </tr>\n",
       "    <tr>\n",
       "      <th>1</th>\n",
       "      <td>This is not what I expected</td>\n",
       "      <td>bad</td>\n",
       "      <td>0.921356</td>\n",
       "    </tr>\n",
       "    <tr>\n",
       "      <th>2</th>\n",
       "      <td>It works fine, but could be better</td>\n",
       "      <td>good</td>\n",
       "      <td>0.927952</td>\n",
       "    </tr>\n",
       "  </tbody>\n",
       "</table>\n",
       "</div>"
      ],
      "text/plain": [
       "                                Frase Etiqueta con Mayor Puntuación  \\\n",
       "0                 I love this product                          good   \n",
       "1         This is not what I expected                           bad   \n",
       "2  It works fine, but could be better                          good   \n",
       "\n",
       "   Puntuación  \n",
       "0    0.988380  \n",
       "1    0.921356  \n",
       "2    0.927952  "
      ]
     },
     "execution_count": 42,
     "metadata": {},
     "output_type": "execute_result"
    }
   ],
   "source": [
    "df = process_dict_to_dataframe(data)\n",
    "df"
   ]
  },
  {
   "cell_type": "markdown",
   "metadata": {},
   "source": [
    "Text classification"
   ]
  },
  {
   "cell_type": "code",
   "execution_count": 43,
   "metadata": {},
   "outputs": [
    {
     "data": {
      "text/plain": [
       "[[{'label': 'POSITIVE', 'score': 0.9998738765716553},\n",
       "  {'label': 'NEGATIVE', 'score': 0.0001261125726159662}]]"
      ]
     },
     "execution_count": 43,
     "metadata": {},
     "output_type": "execute_result"
    }
   ],
   "source": [
    "headers = {\"Authorization\": f\"Bearer {API_TOKEN}\"}\n",
    "API_URL = \"https://api-inference.huggingface.co/models/distilbert-base-uncased-finetuned-sst-2-english\"\n",
    "def query(payload):\n",
    "    response = requests.post(API_URL, headers=headers, json=payload)\n",
    "    return response.json()\n",
    "data = query({\"inputs\": \"I like you. I love you\"})\n",
    "data"
   ]
  },
  {
   "cell_type": "code",
   "execution_count": 44,
   "metadata": {},
   "outputs": [],
   "source": [
    "#MULTIPLE\n",
    "\n",
    "headers = {\"Authorization\": f\"Bearer {API_TOKEN}\"}\n",
    "API_URL = \"https://api-inference.huggingface.co/models/distilbert-base-uncased-finetuned-sst-2-english\"\n",
    "\n",
    "def query(payload):\n",
    "    response = requests.post(API_URL, headers=headers, json=payload)\n",
    "    return response.json()\n",
    "\n",
    "\n",
    "def query_multiple_inputs_class (inputs_list):\n",
    "    results = []\n",
    "    \n",
    "    for input_text in inputs_list:\n",
    "        payload = {\n",
    "            \"inputs\": input_text,\n",
    "        }\n",
    "        result = query(payload)\n",
    "        results.append(result)\n",
    "    \n",
    "    return results"
   ]
  },
  {
   "cell_type": "code",
   "execution_count": 45,
   "metadata": {},
   "outputs": [],
   "source": [
    "inputs = [\"I love this product\", \"This is not what I expected\", \"It works fine, but could be better\"]\n",
    "\n",
    "data = query_multiple_inputs_class(inputs)"
   ]
  },
  {
   "cell_type": "code",
   "execution_count": 46,
   "metadata": {},
   "outputs": [
    {
     "data": {
      "text/plain": [
       "[[[{'label': 'POSITIVE', 'score': 0.9998788833618164},\n",
       "   {'label': 'NEGATIVE', 'score': 0.00012105619680369273}]],\n",
       " [[{'label': 'NEGATIVE', 'score': 0.9997480511665344},\n",
       "   {'label': 'POSITIVE', 'score': 0.0002519444387871772}]],\n",
       " [[{'label': 'POSITIVE', 'score': 0.9944763779640198},\n",
       "   {'label': 'NEGATIVE', 'score': 0.005523692816495895}]]]"
      ]
     },
     "execution_count": 46,
     "metadata": {},
     "output_type": "execute_result"
    }
   ],
   "source": [
    "data"
   ]
  },
  {
   "cell_type": "markdown",
   "metadata": {},
   "source": [
    "Image recognition"
   ]
  },
  {
   "cell_type": "code",
   "execution_count": 49,
   "metadata": {},
   "outputs": [
    {
     "data": {
      "text/plain": [
       "[{'label': 'Egyptian cat', 'score': 0.43790608644485474},\n",
       " {'label': 'tabby, tabby cat', 'score': 0.37949836254119873},\n",
       " {'label': 'tiger cat', 'score': 0.1658201366662979},\n",
       " {'label': 'lynx, catamount', 'score': 0.00667042238637805},\n",
       " {'label': 'Persian cat', 'score': 0.0007664052536711097}]"
      ]
     },
     "execution_count": 49,
     "metadata": {},
     "output_type": "execute_result"
    }
   ],
   "source": [
    "import json\n",
    "import requests\n",
    "headers = {\"Authorization\": f\"Bearer {API_TOKEN}\"}\n",
    "API_URL = \"https://api-inference.huggingface.co/models/google/vit-base-patch16-224\"\n",
    "def query(filename):\n",
    "    with open(filename, \"rb\") as f:\n",
    "        data = f.read()\n",
    "    response = requests.request(\"POST\", API_URL, headers=headers, data=data)\n",
    "    return json.loads(response.content.decode(\"utf-8\"))\n",
    "data = query(\"cats.jpeg\")\n",
    "data"
   ]
  },
  {
   "cell_type": "code",
   "execution_count": 50,
   "metadata": {},
   "outputs": [
    {
     "data": {
      "text/plain": [
       "[{'label': 'German shepherd, German shepherd dog, German police dog, alsatian',\n",
       "  'score': 0.9879292249679565},\n",
       " {'label': 'kelpie', 'score': 0.0025923456996679306},\n",
       " {'label': 'muzzle', 'score': 0.0010812951950356364},\n",
       " {'label': 'malinois', 'score': 0.0010680905543267727},\n",
       " {'label': 'Norwegian elkhound, elkhound', 'score': 0.0009105136850848794}]"
      ]
     },
     "execution_count": 50,
     "metadata": {},
     "output_type": "execute_result"
    }
   ],
   "source": [
    "possible_dog = query(\"dog.jpeg\")\n",
    "possible_dog"
   ]
  },
  {
   "cell_type": "code",
   "execution_count": null,
   "metadata": {},
   "outputs": [
    {
     "data": {
      "text/plain": [
       "[{'label': 'patio, terrace', 'score': 0.26827412843704224},\n",
       " {'label': 'palace', 'score': 0.04998278245329857},\n",
       " {'label': 'boathouse', 'score': 0.049633320420980453},\n",
       " {'label': 'tile roof', 'score': 0.04291205108165741},\n",
       " {'label': 'mobile home, manufactured home', 'score': 0.03886718675494194}]"
      ]
     },
     "execution_count": 63,
     "metadata": {},
     "output_type": "execute_result"
    }
   ],
   "source": [
    "house = query(\"house.jpg\")\n",
    "house"
   ]
  },
  {
   "cell_type": "code",
   "execution_count": null,
   "metadata": {},
   "outputs": [
    {
     "data": {
      "text/plain": [
       "[{'label': 'patio, terrace', 'score': 0.26827412843704224},\n",
       " {'label': 'palace', 'score': 0.04998278245329857},\n",
       " {'label': 'boathouse', 'score': 0.049633320420980453},\n",
       " {'label': 'tile roof', 'score': 0.04291205108165741},\n",
       " {'label': 'mobile home, manufactured home', 'score': 0.03886718675494194}]"
      ]
     },
     "execution_count": 64,
     "metadata": {},
     "output_type": "execute_result"
    }
   ],
   "source": [
    "house1 = query(\"house.jpg\")\n",
    "house1"
   ]
  },
  {
   "cell_type": "code",
   "execution_count": null,
   "metadata": {},
   "outputs": [
    {
     "data": {
      "text/plain": [
       "[{'label': 'Windsor tie', 'score': 0.12037745863199234},\n",
       " {'label': 'suit, suit of clothes', 'score': 0.08712882548570633},\n",
       " {'label': \"academic gown, academic robe, judge's robe\",\n",
       "  'score': 0.01740042306482792},\n",
       " {'label': 'flagpole, flagstaff', 'score': 0.01593775860965252},\n",
       " {'label': 'bearskin, busby, shako', 'score': 0.0115365507081151}]"
      ]
     },
     "execution_count": 65,
     "metadata": {},
     "output_type": "execute_result"
    }
   ],
   "source": [
    "trump = query(\"trump.jpg\")\n",
    "trump"
   ]
  }
 ],
 "metadata": {
  "kernelspec": {
   "display_name": "Python 3",
   "language": "python",
   "name": "python3"
  },
  "language_info": {
   "codemirror_mode": {
    "name": "ipython",
    "version": 3
   },
   "file_extension": ".py",
   "mimetype": "text/x-python",
   "name": "python",
   "nbconvert_exporter": "python",
   "pygments_lexer": "ipython3",
   "version": "3.9.6"
  }
 },
 "nbformat": 4,
 "nbformat_minor": 2
}
