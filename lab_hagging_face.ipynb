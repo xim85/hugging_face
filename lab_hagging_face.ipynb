{
 "cells": [
  {
   "cell_type": "code",
   "execution_count": 1,
   "metadata": {},
   "outputs": [
    {
     "name": "stderr",
     "output_type": "stream",
     "text": [
      "/Users/joaquinalborszamorano/Library/Python/3.9/lib/python/site-packages/urllib3/__init__.py:35: NotOpenSSLWarning: urllib3 v2 only supports OpenSSL 1.1.1+, currently the 'ssl' module is compiled with 'LibreSSL 2.8.3'. See: https://github.com/urllib3/urllib3/issues/3020\n",
      "  warnings.warn(\n"
     ]
    }
   ],
   "source": [
    "import requests\n",
    "import pandas as pd\n",
    "import os"
   ]
  },
  {
   "cell_type": "code",
   "execution_count": 2,
   "metadata": {},
   "outputs": [],
   "source": [
    "API_TOKEN = open('Token.txt').read().strip()"
   ]
  },
  {
   "cell_type": "code",
   "execution_count": 3,
   "metadata": {},
   "outputs": [],
   "source": [
    "headers = {\"Authorization\": f\"Bearer {API_TOKEN}\"}\n",
    "API_URL = \"https://api-inference.huggingface.co/models/facebook/bart-large-mnli\"\n",
    "def query(payload):\n",
    "    response = requests.post(API_URL, headers=headers, json=payload)\n",
    "    return response.json()\n",
    "data = query(\n",
    "    {\n",
    "        \"inputs\": \"Hi, I recently bought a device from your company but it is not working as advertised and I would like to get reimbursed!\",\n",
    "        \"parameters\": {\"candidate_labels\": [\"refund\", \"legal\", \"faq\"]},\n",
    "    }\n",
    ")"
   ]
  },
  {
   "cell_type": "code",
   "execution_count": 4,
   "metadata": {},
   "outputs": [
    {
     "data": {
      "text/plain": [
       "{'sequence': 'Hi, I recently bought a device from your company but it is not working as advertised and I would like to get reimbursed!',\n",
       " 'labels': ['refund', 'faq', 'legal'],\n",
       " 'scores': [0.8777878284454346, 0.10522636026144028, 0.01698581501841545]}"
      ]
     },
     "execution_count": 4,
     "metadata": {},
     "output_type": "execute_result"
    }
   ],
   "source": [
    "data"
   ]
  },
  {
   "cell_type": "code",
   "execution_count": 5,
   "metadata": {},
   "outputs": [],
   "source": [
    "import json\n",
    "import requests\n",
    "headers = {\"Authorization\": f\"Bearer {API_TOKEN}\"}\n",
    "API_URL = \"https://api-inference.huggingface.co/models/google/vit-base-patch16-224\"\n",
    "def query(filename):\n",
    "    with open(filename, \"rb\") as f:\n",
    "        data = f.read()\n",
    "    response = requests.request(\"POST\", API_URL, headers=headers, data=data)\n",
    "    return json.loads(response.content.decode(\"utf-8\"))\n",
    "data = query(\"apple.jpeg\")"
   ]
  },
  {
   "cell_type": "code",
   "execution_count": 6,
   "metadata": {},
   "outputs": [
    {
     "data": {
      "text/plain": [
       "[{'label': 'Granny Smith', 'score': 0.4048777222633362},\n",
       " {'label': 'television, television system', 'score': 0.05413699522614479},\n",
       " {'label': 'monitor', 'score': 0.049056898802518845},\n",
       " {'label': 'screen, CRT screen', 'score': 0.028330408036708832},\n",
       " {'label': 'strawberry', 'score': 0.02658763714134693}]"
      ]
     },
     "execution_count": 6,
     "metadata": {},
     "output_type": "execute_result"
    }
   ],
   "source": [
    "data"
   ]
  },
  {
   "cell_type": "code",
   "execution_count": 7,
   "metadata": {},
   "outputs": [],
   "source": [
    "### Summarize"
   ]
  },
  {
   "cell_type": "code",
   "execution_count": 8,
   "metadata": {},
   "outputs": [
    {
     "data": {
      "text/plain": [
       "[{'summary_text': 'A starship, starcraft, or interstellar spacecraft is a theoretical spacecraft designed for traveling between planetary systems. Reference to a \"star-ship\" appears as early as 1882 in Oahspe: A New Bible. Voyager 1 probe and Gliese 445 will pass one another within 1.6 light years in about 40,000 years.'}]"
      ]
     },
     "execution_count": 8,
     "metadata": {},
     "output_type": "execute_result"
    }
   ],
   "source": [
    "import requests\n",
    "headers = {\"Authorization\": f\"Bearer {API_TOKEN}\"}\n",
    "API_URL = \"https://api-inference.huggingface.co/models/facebook/bart-large-cnn\"\n",
    "def query(payload):\n",
    "    response = requests.post(API_URL, headers=headers, json=payload)\n",
    "    return response.json()\n",
    "data = query(\n",
    "    {\n",
    "        \"inputs\": 'A starship, starcraft, or interstellar spacecraft is a theoretical spacecraft designed for traveling between planetary systems.[1] The term is mostly found in science fiction. Reference to a \"star-ship\" appears as early as 1882 in Oahspe: A New Bible.[2] While NASAs Voyager and Pioneer probes have traveled into local interstellar space, the purpose of these uncrewed craft was specifically interplanetary, and they are not predicted to reach another star system; Voyager 1 probe and Gliese 445 will pass one another within 1.6 light years in about 40,000 years.[3] Several preliminary designs for starships have been undertaken through exploratory engineering, using feasibility studies with modern technology or technology thought likely to be available in the near future.In April 2016, scientists announced Breakthrough Starshot, a Breakthrough Initiatives program, to develop a proof-of-concept fleet of small centimeter-sized light sail spacecraft named StarChip,[4] capable of making the journey to Alpha Centauri, the nearest star system, at speeds of 20%[5][6] and 15%[7] of the speed of light, taking between 20 and 30 years to reach the star system, respectively, and about 4 years to notify Earth of a successful arrival',\n",
    "        \"parameters\": {\"do_sample\": False},\n",
    "    }\n",
    ")\n",
    "data"
   ]
  },
  {
   "cell_type": "code",
   "execution_count": 9,
   "metadata": {},
   "outputs": [],
   "source": [
    "input_text = 'A starship, starcraft, or interstellar spacecraft is a theoretical spacecraft designed for traveling between planetary systems.[1] The term is mostly found in science fiction. Reference to a \"star-ship\" appears as early as 1882 in Oahspe: A New Bible.[2] While NASAs Voyager and Pioneer probes have traveled into local interstellar space, the purpose of these uncrewed craft was specifically interplanetary, and they are not predicted to reach another star system; Voyager 1 probe and Gliese 445 will pass one another within 1.6 light years in about 40,000 years.[3] Several preliminary designs for starships have been undertaken through exploratory engineering, using feasibility studies with modern technology or technology thought likely to be available in the near future.In April 2016, scientists announced Breakthrough Starshot, a Breakthrough Initiatives program, to develop a proof-of-concept fleet of small centimeter-sized light sail spacecraft named StarChip,[4] capable of making the journey to Alpha Centauri, the nearest star system, at speeds of 20%[5][6] and 15%[7] of the speed of light, taking between 20 and 30 years to reach the star system, respectively, and about 4 years to notify Earth of a successful arrival'"
   ]
  }
 ],
 "metadata": {
  "kernelspec": {
   "display_name": "Python 3",
   "language": "python",
   "name": "python3"
  },
  "language_info": {
   "codemirror_mode": {
    "name": "ipython",
    "version": 3
   },
   "file_extension": ".py",
   "mimetype": "text/x-python",
   "name": "python",
   "nbconvert_exporter": "python",
   "pygments_lexer": "ipython3",
   "version": "3.9.6"
  }
 },
 "nbformat": 4,
 "nbformat_minor": 2
}
